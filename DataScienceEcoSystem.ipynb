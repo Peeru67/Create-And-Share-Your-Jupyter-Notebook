{
 "cells": [
  {
   "cell_type": "markdown",
   "id": "580fc835",
   "metadata": {},
   "source": [
    "# Data Science Tools and Ecosystem"
   ]
  },
  {
   "cell_type": "markdown",
   "id": "65361313",
   "metadata": {},
   "source": [
    "In this notebook, Data Science Tools and Ecosystem are summarized"
   ]
  },
  {
   "cell_type": "markdown",
   "id": "dba6620b",
   "metadata": {},
   "source": [
    "### Objectives:"
   ]
  },
  {
   "cell_type": "markdown",
   "id": "003d2412",
   "metadata": {},
   "source": [
    "Popular languages for Data Science:\n",
    "\n",
    "- Scala\n",
    "- Java\n",
    "- MATLAB\n",
    "- C++"
   ]
  },
  {
   "cell_type": "markdown",
   "id": "9c83ca62",
   "metadata": {},
   "source": [
    "Some of the popular languages that Data Scientists use are:\n",
    "\n",
    "1. Python\n",
    "2. R\n",
    "3. SQL\n",
    "4. Julia"
   ]
  },
  {
   "cell_type": "markdown",
   "id": "88503294",
   "metadata": {},
   "source": [
    "Some of the commonly used libraries used by Data Scientists include:\n",
    "\n",
    "1. Pandas\n",
    "2. Matplotlib\n",
    "3. TensorFlow\n",
    "4. Numpy"
   ]
  },
  {
   "cell_type": "markdown",
   "id": "b18e0857",
   "metadata": {},
   "source": [
    "| Data Science Tools | \n",
    "| ---------- |\n",
    "| Apache Spark |\n",
    "| RapidMiner |\n",
    "| KNIME |"
   ]
  },
  {
   "cell_type": "markdown",
   "id": "8d3a7a84",
   "metadata": {},
   "source": [
    "### Below are a few examples of evaluating arithmetic expressions in Python."
   ]
  },
  {
   "cell_type": "code",
   "execution_count": 1,
   "id": "50b68169",
   "metadata": {},
   "outputs": [
    {
     "data": {
      "text/plain": [
       "17"
      ]
     },
     "execution_count": 1,
     "metadata": {},
     "output_type": "execute_result"
    }
   ],
   "source": [
    "#This a simple arithmetic expression to mutiply then add integers.\n",
    "(3*4)+5"
   ]
  },
  {
   "cell_type": "code",
   "execution_count": 6,
   "id": "3febdb73",
   "metadata": {},
   "outputs": [
    {
     "name": "stdout",
     "output_type": "stream",
     "text": [
      "Enter minutes:200\n",
      "3.3333333333333335 hrs\n"
     ]
    }
   ],
   "source": [
    "# This will convert 200 minutes to hours by diving by 60.\n",
    "m=int(input('Enter minutes:'))\n",
    "h=m/60\n",
    "print(h,'hrs')"
   ]
  },
  {
   "cell_type": "markdown",
   "id": "a2b7a811",
   "metadata": {},
   "source": [
    "## Author\n",
    "\n",
    "-- Shaik Peeru Soheb"
   ]
  },
  {
   "cell_type": "code",
   "execution_count": null,
   "id": "84e3c1b7",
   "metadata": {},
   "outputs": [],
   "source": []
  }
 ],
 "metadata": {
  "kernelspec": {
   "display_name": "Python 3 (ipykernel)",
   "language": "python",
   "name": "python3"
  },
  "language_info": {
   "codemirror_mode": {
    "name": "ipython",
    "version": 3
   },
   "file_extension": ".py",
   "mimetype": "text/x-python",
   "name": "python",
   "nbconvert_exporter": "python",
   "pygments_lexer": "ipython3",
   "version": "3.9.17"
  }
 },
 "nbformat": 4,
 "nbformat_minor": 5
}
